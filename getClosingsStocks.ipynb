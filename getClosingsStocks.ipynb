{
 "cells": [
  {
   "cell_type": "code",
   "execution_count": 1,
   "id": "89493a25-7697-484b-887b-e861c2342b23",
   "metadata": {
    "pycharm": {
     "name": "#%%\n"
    }
   },
   "outputs": [],
   "source": [
    "# run this cell\n",
    "import selenium\n",
    "from selenium import webdriver\n",
    "from selenium.webdriver.common.keys import Keys\n",
    "from selenium.webdriver.common.by import By\n",
    "from selenium.webdriver.support.ui import WebDriverWait\n",
    "from selenium.webdriver.support import expected_conditions as EC\n",
    "from time import sleep\n",
    "import os\n",
    "import shutil\n",
    "import glob\n",
    "\n",
    "import re\n",
    "import pandas as pd\n",
    "import os"
   ]
  },
  {
   "cell_type": "code",
   "execution_count": 2,
   "id": "b50c26ec",
   "metadata": {
    "pycharm": {
     "name": "#%%\n"
    },
    "tags": []
   },
   "outputs": [
    {
     "name": "stdout",
     "output_type": "stream",
     "text": [
      "4.15.1\n"
     ]
    }
   ],
   "source": [
    "#optional\n",
    "print(selenium.__version__)"
   ]
  },
  {
   "cell_type": "code",
   "execution_count": 3,
   "id": "f3761f40",
   "metadata": {
    "pycharm": {
     "name": "#%%\n"
    }
   },
   "outputs": [
    {
     "name": "stdout",
     "output_type": "stream",
     "text": [
      "2.1.3\n"
     ]
    }
   ],
   "source": [
    "#optional \n",
    "print(pd.__version__)"
   ]
  },
  {
   "cell_type": "code",
   "execution_count": 4,
   "id": "5c3a820a",
   "metadata": {
    "pycharm": {
     "name": "#%%\n"
    }
   },
   "outputs": [
    {
     "data": {
      "text/plain": [
       "ModuleSpec(name='glob', loader=<_frozen_importlib_external.SourceFileLoader object at 0x0000029F4051A590>, origin='C:\\\\Users\\\\camar\\\\.conda\\\\envs\\\\stocks\\\\lib\\\\glob.py')"
      ]
     },
     "execution_count": 4,
     "metadata": {},
     "output_type": "execute_result"
    }
   ],
   "source": [
    "#optional\n",
    "glob.__spec__"
   ]
  },
  {
   "cell_type": "code",
   "execution_count": 5,
   "id": "4963f1ad",
   "metadata": {
    "pycharm": {
     "name": "#%%\n"
    }
   },
   "outputs": [
    {
     "name": "stderr",
     "output_type": "stream",
     "text": [
      "The geckodriver version (0.33.0) detected in PATH at c:\\Program Files (x86)\\Google\\geckodriver.exe might not be compatible with the detected firefox version (126.0.0.8895); currently, geckodriver 0.34.0 is recommended for firefox 126.*, so it is advised to delete the driver in PATH and retry\n"
     ]
    }
   ],
   "source": [
    "#run this cell\n",
    "driver = webdriver.Firefox()"
   ]
  },
  {
   "cell_type": "code",
   "execution_count": 22,
   "id": "16087cd2",
   "metadata": {
    "pycharm": {
     "name": "#%%\n"
    }
   },
   "outputs": [],
   "source": [
    "# don't run this cell; it was for the obsolete way of getting 5-year history from nasdaq.com\n",
    "driver.get(\"https://www.nasdaq.com/market-activity/stocks/\")"
   ]
  },
  {
   "cell_type": "code",
   "execution_count": 6,
   "id": "9ab7de8a",
   "metadata": {
    "pycharm": {
     "name": "#%%\n"
    }
   },
   "outputs": [],
   "source": [
    "#run this cell, the commented lines are from when some stocks from Nasdaq downloaded don't but there was an interruption\n",
    "stocks = [\"AAPL\", \"MSFT\", \"AMZN\", \"NVDA\", \"TSLA\", \"GOOG\", \"GOOGL\",  \"BRK.B\",\"META\",\\\n",
    "          \"UNH\", \"V\", \"XOM\", \"JPM\", \"JNJ\", \"WMT\", \"MA\", \"PG\", \"CVX\", \"HD\", \"LLY\", \"ABBV\", \\\n",
    "         \"BAC\", \"MRK\", \"AVGO\", \"KO\", \"ORCL\", \"PEP\", \"PFE\", \"TMO\", \"COST\", \"QQQ\", \"CRWD\", \"TTD\"]\n",
    "# stocks = [\"UNH\", \"V\", \"XOM\", \"JPM\", \"JNJ\", \"WMT\", \"MA\", \"PG\", \"CVX\", \"HD\", \"LLY\", \"ABBV\", \\\n",
    "#          \"BAC\", \"MRK\", \"AVGO\", \"KO\", \"ORCL\", \"PEP\", \"PFE\", \"TMO\", \"COST\", \"QQQ\"]\n",
    "# stocks = [\"AAPL\", \"MSFT\", \"AMZN\", \"NVDA\", \"TSLA\", \"GOOG\", \"GOOGL\",  \"BRK.B\",\"META\",\\\n",
    "#           \"UNH\", \"V\", \"XOM\", \"JPM\", \"JNJ\", \"WMT\", \"MA\", \"PG\", \"CVX\", \"HD\", \"LLY\", \"ABBV\", \\\n",
    "#          \"BAC\", \"MRK\", \"AVGO\", \"KO\", \"COST\", \"QQQ\"]\n",
    "\n",
    "# stocks = [\"TMO\", \"COST\", \"QQQ\"]\n",
    "# stocks = [\"AVGO\"]\n",
    "# stocks = [\"AVGO\", \"KO\", \"ORCL\", \"PEP\", \"PFE\", \"TMO\", \"COST\", \"QQQ\"]# \n",
    "# stocks = [\"MRK\", \"AVGO\", \"KO\", \"ORCL\", \"PEP\", \"PFE\", \"TMO\", \"COST\", \"QQQ\"]"
   ]
  },
  {
   "cell_type": "code",
   "execution_count": 7,
   "id": "ad961c60",
   "metadata": {
    "pycharm": {
     "name": "#%%\n"
    },
    "scrolled": true
   },
   "outputs": [],
   "source": [
    "#run this cell exactly once\n",
    "os.chdir(\"Data/raw\")\n",
    "# os.chdir(\"CAPS5768\")"
   ]
  },
  {
   "cell_type": "code",
   "execution_count": 8,
   "id": "2b080851",
   "metadata": {
    "pycharm": {
     "name": "#%%\n"
    },
    "scrolled": true
   },
   "outputs": [
    {
     "name": "stdout",
     "output_type": "stream",
     "text": [
      " Volume in drive C has no label.\n",
      " Volume Serial Number is 0446-5F4D\n",
      "\n",
      " Directory of c:\\Users\\camar\\Downloads\\CAP5768\\Data\\raw\n",
      "\n",
      "11/16/2023  04:04 AM    <DIR>          .\n",
      "11/16/2023  04:04 AM    <DIR>          ..\n",
      "04/20/2023  02:56 PM    <DIR>          .ipynb_checkpoints\n",
      "11/29/2023  04:57 PM            68,062 AAPL.csv\n",
      "11/29/2023  05:05 PM            64,082 ABBV.csv\n",
      "11/29/2023  04:58 PM            69,795 AMZN.csv\n",
      "11/29/2023  05:06 PM            65,963 AVGO.csv\n",
      "11/29/2023  05:05 PM            62,188 BAC.csv\n",
      "11/29/2023  05:00 PM            65,901 BRK.B.csv\n",
      "11/29/2023  05:08 PM            66,124 COST.csv\n",
      "11/29/2023  05:09 PM            58,169 crwd.csv\n",
      "11/29/2023  05:04 PM            65,166 CVX.csv\n",
      "07/06/2023  09:41 PM         5,278,338 geckodriver.log\n",
      "11/29/2023  05:00 PM            69,212 GOOG.csv\n",
      "11/29/2023  05:00 PM            69,240 GOOGL.csv\n",
      "11/29/2023  05:04 PM            66,110 HD.csv\n",
      "11/29/2023  05:03 PM            66,001 JNJ.csv\n",
      "11/29/2023  05:02 PM            66,270 JPM.csv\n",
      "11/29/2023  05:06 PM            62,017 KO.csv\n",
      "11/29/2023  05:05 PM            65,904 LLY.csv\n",
      "11/29/2023  05:03 PM            65,926 MA.csv\n",
      "11/29/2023  05:01 PM            67,237 META.csv\n",
      "11/29/2023  05:06 PM            66,978 MRK.csv\n",
      "11/29/2023  04:58 PM            67,182 MSFT.csv\n",
      "11/29/2023  04:58 PM            68,656 NVDA.csv\n",
      "11/29/2023  05:07 PM            61,976 ORCL.csv\n",
      "11/29/2023  05:07 PM            65,915 PEP.csv\n",
      "11/29/2023  05:07 PM            65,735 PFE.csv\n",
      "11/29/2023  05:04 PM            65,696 PG.csv\n",
      "11/29/2023  05:09 PM            62,184 qqq.csv\n",
      "11/29/2023  05:08 PM            65,624 TMO.csv\n",
      "11/29/2023  04:59 PM            71,422 TSLA.csv\n",
      "11/29/2023  05:09 PM            63,425 ttd.csv\n",
      "11/29/2023  05:01 PM            65,904 UNH.csv\n",
      "11/29/2023  05:01 PM            66,082 V.csv\n",
      "11/29/2023  05:03 PM            65,715 WMT.csv\n",
      "11/29/2023  05:02 PM            63,211 XOM.csv\n",
      "11/16/2023  02:33 PM    <DIR>          yahoo\n",
      "              34 File(s)      7,447,410 bytes\n",
      "               4 Dir(s)  535,026,778,112 bytes free\n"
     ]
    }
   ],
   "source": [
    "# optional\n",
    "!dir"
   ]
  },
  {
   "cell_type": "code",
   "execution_count": 9,
   "id": "fad18f7e",
   "metadata": {
    "pycharm": {
     "name": "#%%\n"
    }
   },
   "outputs": [],
   "source": [
    "# run this cell\n",
    "wait = WebDriverWait(driver, 10)"
   ]
  },
  {
   "cell_type": "code",
   "execution_count": 17,
   "id": "b6981435-8a5b-4d7e-8bb5-5a7e6b42ac9a",
   "metadata": {
    "pycharm": {
     "name": "#%%\n"
    }
   },
   "outputs": [],
   "source": [
    "# run this cell\n",
    "for stock in stocks:\n",
    "    stock = stock.lower()\n",
    "    driver.get(\"https://www.nasdaq.com/market-activity/stocks/\" + stock + \"/historical\")\n",
    "    WebDriverWait(driver, 60).until(EC.visibility_of_element_located((By.XPATH,\"//button[@data-tab-id='y5']\")))\n",
    "    fiveY = driver.find_element(By.XPATH,\"//button[@data-tab-id='y5']\")\n",
    "    try:\n",
    "        sleep(5)\n",
    "        fiveY.click()\n",
    "    except ElementClickInterceptedException:\n",
    "        sleep(5)\n",
    "        WebDriverWait(driver, 60).until(EC.visibility_of_element_located((By.XPATH,\"//button[@data-tab-id='y5']\")))\n",
    "        fiveY = driver.find_element(By.XPATH,\"//button[@data-tab-id='y5']\")        \n",
    "        fiveY.click()\n",
    "    sleep(4)\n",
    "    # wait.until(EC.visibility_of_element_located((By.XPATH,\"//button[@class='historical-data__controls-button--download historical-download']\")))\n",
    "    # download = driver.find_element(By.XPATH,\"//button[@class='historical-data__controls-button--download historical-download']\")\n",
    "    # wait.until(EC.visibility_of_element_located((By.XPATH,\"//a[@class='quote-detail-nav__link']\")))\n",
    "    # download = driver.find_element(By.XPATH,\"//a[@class='quote-detail-nav__link']\")\n",
    "    # wait.until(EC.visibility_of_element_located((By.XPATH,\"//a[@class='historical-data__controls-button--download historical-download']\")))\n",
    "    # wait.until(EC.visibility_of_element_located((By.XPATH,\"//button[@class='historical-data__controls-button--download.historical-download']\")))\n",
    "    # download = driver.find_element(By.XPATH,\"//button[@class='historical-data__controls-button--download.historical-download']\")\n",
    "    # download = driver.find_element(By.XPATH,\"//button[contains( text( ), 'DOWNLOAD DATA')]\")\n",
    "    wait.until(EC.visibility_of_element_located((By.XPATH,\"//div[@class='historical-download-container']\")))\n",
    "    # download = driver.find_element(By.XPATH,\"//button[contains( text( ), 'DOWNLOAD DATA')]\")\n",
    "    download = driver.find_element(By.XPATH,\"//div[@class='historical-download-container']\")\n",
    "    download = download.find_element(By.XPATH,\"//span[contains( text( ), 'Download')]\")\n",
    "    # download = driver.find_element(By.XPATH,\"//a[@class='historical-data__controls-button--download']\")\n",
    "    # download.send_keys(Keys.NULL)    \n",
    "    sleep(1)\n",
    "    # historical-data__controls\n",
    "    # download.click()\n",
    "    driver.execute_script(\"arguments[0].click();\", download)\n",
    "    sleep(7)\n",
    "    list_of_files = glob.glob('c:\\\\Users\\\\camar\\\\Downloads\\\\*.csv')\n",
    "    latest_file = max(list_of_files, key=os.path.getctime)\n",
    "    shutil.move(latest_file, './' + stock + '.csv' )\n",
    "    "
   ]
  },
  {
   "cell_type": "code",
   "execution_count": 12,
   "id": "32a9a381",
   "metadata": {
    "pycharm": {
     "name": "#%%\n"
    },
    "scrolled": true
   },
   "outputs": [
    {
     "ename": "KeyboardInterrupt",
     "evalue": "",
     "output_type": "error",
     "traceback": [
      "\u001b[1;31m---------------------------------------------------------------------------\u001b[0m",
      "\u001b[1;31mKeyboardInterrupt\u001b[0m                         Traceback (most recent call last)",
      "\u001b[1;32m~\\AppData\\Local\\Temp\\ipykernel_5788\\3244026814.py\u001b[0m in \u001b[0;36m<module>\u001b[1;34m\u001b[0m\n\u001b[0;32m     12\u001b[0m     \u001b[0mssbox\u001b[0m\u001b[1;33m.\u001b[0m\u001b[0msend_keys\u001b[0m\u001b[1;33m(\u001b[0m\u001b[0mstock\u001b[0m\u001b[1;33m)\u001b[0m\u001b[1;33m\u001b[0m\u001b[1;33m\u001b[0m\u001b[0m\n\u001b[0;32m     13\u001b[0m     \u001b[0mssbox\u001b[0m\u001b[1;33m.\u001b[0m\u001b[0msend_keys\u001b[0m\u001b[1;33m(\u001b[0m\u001b[0mKeys\u001b[0m\u001b[1;33m.\u001b[0m\u001b[0mRETURN\u001b[0m\u001b[1;33m)\u001b[0m\u001b[1;33m\u001b[0m\u001b[1;33m\u001b[0m\u001b[0m\n\u001b[1;32m---> 14\u001b[1;33m     \u001b[0msleep\u001b[0m\u001b[1;33m(\u001b[0m\u001b[1;36m2.5\u001b[0m\u001b[1;33m)\u001b[0m\u001b[1;33m\u001b[0m\u001b[1;33m\u001b[0m\u001b[0m\n\u001b[0m\u001b[0;32m     15\u001b[0m     \u001b[1;32mif\u001b[0m \u001b[0mfirst\u001b[0m\u001b[1;33m:\u001b[0m\u001b[1;33m\u001b[0m\u001b[1;33m\u001b[0m\u001b[0m\n\u001b[0;32m     16\u001b[0m         \u001b[0murl\u001b[0m \u001b[1;33m=\u001b[0m \u001b[1;34m\"/market-activity/stocks/\"\u001b[0m \u001b[1;33m+\u001b[0m \u001b[0mstock\u001b[0m \u001b[1;33m+\u001b[0m \u001b[1;34m\"/historical\"\u001b[0m\u001b[1;33m\u001b[0m\u001b[1;33m\u001b[0m\u001b[0m\n",
      "\u001b[1;31mKeyboardInterrupt\u001b[0m: "
     ]
    }
   ],
   "source": [
    "# Don't run this cell; this is the obsolete way of getting downloads from Nasdaq\n",
    "first = False\n",
    "for stock in stocks:\n",
    "    stock = stock.lower()\n",
    "    try :\n",
    "        ssbox = driver.find_element(By.ID, \"find-symbol-input\")\n",
    "    except:\n",
    "        try:\n",
    "            ssbox =  driver.find_element(By.ID, \"find-symbol-input-dark\")\n",
    "        except:\n",
    "            ssbox =  driver.find_element(By.ID, \"nasdaq-search-overlay-input\")\n",
    "                                         \n",
    "    ssbox.send_keys(stock)\n",
    "    ssbox.send_keys(Keys.RETURN)\n",
    "    sleep(2.5)\n",
    "    if first:\n",
    "        url = \"/market-activity/stocks/\" + stock + \"/historical\"\n",
    "        wait.until(EC.visibility_of_element_located((By.XPATH,'//a[@href=\"'+url+'\"]')))\n",
    "        historical = driver.find_element(By.XPATH,'//a[@href=\"'+url+'\"]')               \n",
    "        historical.click()\n",
    "        sleep(5)\n",
    "    WebDriverWait(driver, 60).until(EC.visibility_of_element_located((By.XPATH,\"//button[@data-value='5y']\")))\n",
    "    fiveY = driver.find_element(By.XPATH,\"//button[@data-value='5Y']\")\n",
    "    try:\n",
    "        sleep(5)\n",
    "        fiveY.click()\n",
    "    except ElementClickInterceptedException:\n",
    "        sleep(5)\n",
    "        WebDriverWait(driver, 60).until(EC.visibility_of_element_located((By.XPATH,\"//button[@data-value='5y']\")))\n",
    "        fiveY = driver.find_element(By.XPATH,\"//button[@data-value='5Y']\")        \n",
    "        fiveY.click()\n",
    "    sleep(2)\n",
    "    # wait.until(EC.visibility_of_element_located((By.XPATH,\"//button[@class='historical-data__controls-button--download historical-download']\")))\n",
    "    # download = driver.find_element(By.XPATH,\"//button[@class='historical-data__controls-button--download historical-download']\")\n",
    "    wait.until(EC.visibility_of_element_located((By.XPATH,\"//a[@class='quote-detail-nav__link']\")))\n",
    "    download = driver.find_element(By.XPATH,\"//a[@class='quote-detail-nav__link']\")\n",
    "\n",
    "    driver.execute_script(\"arguments[0].click();\", download)\n",
    "    sleep(5)\n",
    "    list_of_files = glob.glob('c:\\\\Users\\\\camar\\\\Downloads\\\\*.csv')\n",
    "    latest_file = max(list_of_files, key=os.path.getctime)\n",
    "    shutil.move(latest_file, './' + stock + '.csv' )\n",
    "    first = False\n",
    "#     driver.get(\"https://www.nasdaq.com/market-activity/stocks/\")"
   ]
  },
  {
   "cell_type": "code",
   "execution_count": 11,
   "id": "d1b3dd6a",
   "metadata": {
    "pycharm": {
     "name": "#%%\n"
    },
    "scrolled": true
   },
   "outputs": [
    {
     "name": "stdout",
     "output_type": "stream",
     "text": [
      " Volume in drive C has no label.\n",
      " Volume Serial Number is 0446-5F4D\n",
      "\n",
      " Directory of C:\\Users\\camar\\Downloads\\CAP5768\\Data\\raw\n",
      "\n",
      "08/11/2023  03:12 AM    <DIR>          .\n",
      "08/11/2023  03:12 AM    <DIR>          ..\n",
      "04/20/2023  02:56 PM    <DIR>          .ipynb_checkpoints\n",
      "08/17/2023  12:32 PM            68,187 AAPL.csv\n",
      "08/17/2023  12:39 PM            63,800 ABBV.csv\n",
      "08/17/2023  12:33 PM            69,932 AMZN.csv\n",
      "08/17/2023  12:40 PM            65,941 AVGO.csv\n",
      "08/17/2023  12:39 PM            62,174 BAC.csv\n",
      "08/17/2023  12:34 PM            65,889 BRK.B.csv\n",
      "08/17/2023  12:42 PM            66,108 COST.csv\n",
      "08/17/2023  12:38 PM            65,136 CVX.csv\n",
      "07/06/2023  09:41 PM         5,278,338 geckodriver.log\n",
      "08/17/2023  12:34 PM            69,290 GOOG.csv\n",
      "08/17/2023  12:34 PM            69,290 GOOGL.csv\n",
      "08/17/2023  12:38 PM            66,074 HD.csv\n",
      "08/17/2023  12:36 PM            65,970 JNJ.csv\n",
      "08/17/2023  12:36 PM            66,293 JPM.csv\n",
      "08/17/2023  12:40 PM            61,987 KO.csv\n",
      "08/17/2023  12:39 PM            65,882 LLY.csv\n",
      "08/17/2023  12:37 PM            65,916 MA.csv\n",
      "08/17/2023  12:35 PM            67,227 META.csv\n",
      "08/17/2023  12:40 PM            67,231 MRK.csv\n",
      "08/17/2023  12:32 PM            67,171 MSFT.csv\n",
      "08/17/2023  12:33 PM            68,668 NVDA.csv\n",
      "08/17/2023  12:41 PM            61,730 ORCL.csv\n",
      "08/17/2023  12:41 PM            65,914 PEP.csv\n",
      "08/17/2023  12:41 PM            66,235 PFE.csv\n",
      "08/17/2023  12:38 PM            65,421 PG.csv\n",
      "08/17/2023  12:42 PM            62,197 qqq.csv\n",
      "08/17/2023  12:42 PM            65,605 TMO.csv\n",
      "08/17/2023  12:33 PM            71,512 TSLA.csv\n",
      "08/17/2023  12:35 PM            65,908 UNH.csv\n",
      "08/17/2023  12:35 PM            66,115 V.csv\n",
      "08/17/2023  12:37 PM            65,477 WMT.csv\n",
      "08/17/2023  12:36 PM            62,897 XOM.csv\n",
      "06/28/2023  02:27 PM    <DIR>          yahoo\n",
      "              32 File(s)      7,325,515 bytes\n",
      "               4 Dir(s)  587,634,638,848 bytes free\n"
     ]
    }
   ],
   "source": [
    "#optional\n",
    "!dir"
   ]
  },
  {
   "cell_type": "code",
   "execution_count": 13,
   "id": "ba7c7ad2",
   "metadata": {
    "pycharm": {
     "name": "#%%\n"
    }
   },
   "outputs": [],
   "source": [
    "# run this call exactly once\n",
    "os.chdir(\"./yahoo\")"
   ]
  },
  {
   "cell_type": "code",
   "execution_count": 11,
   "id": "b20ffad8",
   "metadata": {
    "pycharm": {
     "name": "#%%\n"
    },
    "scrolled": true
   },
   "outputs": [
    {
     "name": "stdout",
     "output_type": "stream",
     "text": [
      " Volume in drive C has no label.\n",
      " Volume Serial Number is 0446-5F4D\n",
      "\n",
      " Directory of C:\\Users\\camar\\Downloads\\CAP5768\\Data\\raw\\yahoo\n",
      "\n",
      "06/28/2023  01:27 PM    <DIR>          .\n",
      "06/28/2023  01:27 PM    <DIR>          ..\n",
      "04/20/2023  01:47 PM    <DIR>          .ipynb_checkpoints\n",
      "08/17/2023  12:33 PM            18,964 AAPL.csv\n",
      "08/17/2023  12:09 PM            18,701 ABBV.csv\n",
      "08/17/2023  12:05 PM            18,509 AMZN.csv\n",
      "08/17/2023  12:30 PM            18,686 AVGO.csv\n",
      "08/17/2023  12:29 PM            17,691 BAC.csv\n",
      "08/17/2023  12:06 PM            18,690 BRK-B.csv\n",
      "08/17/2023  12:34 PM            18,690 BRK.B.csv\n",
      "08/17/2023  12:31 PM            18,686 COST.csv\n",
      "08/17/2023  12:08 PM            18,733 CVX.csv\n",
      "08/04/2023  12:08 AM           256,537 geckodriver.log\n",
      "08/17/2023  12:06 PM            18,446 GOOG.csv\n",
      "08/17/2023  12:06 PM            18,418 GOOGL.csv\n",
      "08/17/2023  12:08 PM            18,694 HD.csv\n",
      "08/17/2023  12:07 PM            18,729 JNJ.csv\n",
      "08/17/2023  12:07 PM            18,818 JPM.csv\n",
      "08/17/2023  12:30 PM            17,620 KO.csv\n",
      "08/17/2023  12:08 PM            18,690 LLY.csv\n",
      "08/17/2023  12:08 PM            18,688 MA.csv\n",
      "08/17/2023  12:06 PM            18,901 META.csv\n",
      "08/17/2023  12:29 PM            18,436 MRK.csv\n",
      "08/17/2023  12:34 PM            18,939 MSFT.csv\n",
      "08/17/2023  12:05 PM            18,945 NVDA.csv\n",
      "08/17/2023  12:30 PM            17,779 ORCL.csv\n",
      "08/17/2023  12:30 PM            18,693 PEP.csv\n",
      "08/17/2023  12:30 PM            17,679 PFE.csv\n",
      "08/17/2023  12:08 PM            18,699 PG.csv\n",
      "08/17/2023  12:31 PM            18,942 QQQ.csv\n",
      "08/17/2023  12:31 PM            18,633 TMO.csv\n",
      "08/17/2023  12:05 PM            19,103 TSLA.csv\n",
      "08/17/2023  12:06 PM            18,692 UNH.csv\n",
      "08/17/2023  12:06 PM            18,710 V.csv\n",
      "08/17/2023  12:07 PM            18,704 WMT.csv\n",
      "08/17/2023  12:07 PM            18,730 XOM.csv\n",
      "              33 File(s)        851,575 bytes\n",
      "               3 Dir(s)  584,205,582,336 bytes free\n"
     ]
    }
   ],
   "source": [
    "# optional\n",
    "!dir"
   ]
  },
  {
   "cell_type": "code",
   "execution_count": 6,
   "id": "60bb7470",
   "metadata": {
    "pycharm": {
     "name": "#%%\n"
    }
   },
   "outputs": [],
   "source": [
    "# run this cell, the comments are from when some Yahoo stocks downloaded but there was an interruption \n",
    "yahooStocks = [\"AAPL\", \"MSFT\", \"AMZN\", \"NVDA\", \"TSLA\", \"GOOG\", \"GOOGL\",  \"BRK-B\",\"META\",\\\n",
    "          \"UNH\", \"V\", \"XOM\", \"JPM\", \"JNJ\", \"WMT\", \"MA\", \"PG\", \"CVX\", \"HD\", \"LLY\", \"ABBV\", \\\n",
    "         \"BAC\", \"MRK\", \"AVGO\", \"KO\", \"ORCL\", \"PEP\", \"PFE\", \"TMO\", \"COST\", \"QQQ\", \"CRWD\", \"TTD\"]\n",
    "# yahooStocks = [\"BAC\", \"MRK\", \"AVGO\", \"KO\", \"ORCL\", \"PEP\", \"PFE\", \"TMO\", \"COST\", \"QQQ\"]\n",
    "# yahooStocks = [\"META\", \"GOOG\"]\n",
    "#yahooStocks = [\"UNH\", \"V\", \"XOM\", \"JPM\", \"JNJ\", \"WMT\", \"MA\", \"PG\", \"CVX\", \"HD\", \"LLY\", \"ABBV\", \\\n",
    "#         \"BAC\", \"MRK\", \"AVGO\", \"KO\", \"ORCL\", \"PEP\", \"PFE\", \"TMO\", \"COST\"]"
   ]
  },
  {
   "cell_type": "code",
   "execution_count": 9,
   "id": "0e83a33d",
   "metadata": {
    "pycharm": {
     "name": "#%%\n"
    }
   },
   "outputs": [
    {
     "name": "stdout",
     "output_type": "stream",
     "text": [
      "AAPL\n",
      "MSFT\n",
      "AMZN\n",
      "NVDA\n",
      "TSLA\n",
      "GOOG\n",
      "GOOGL\n",
      "BRK-B\n",
      "META\n",
      "UNH\n",
      "V\n",
      "XOM\n",
      "JPM\n",
      "JNJ\n",
      "WMT\n",
      "MA\n",
      "PG\n",
      "CVX\n",
      "HD\n",
      "LLY\n",
      "ABBV\n",
      "BAC\n",
      "MRK\n",
      "AVGO\n",
      "KO\n",
      "ORCL\n",
      "PEP\n",
      "PFE\n",
      "TMO\n",
      "COST\n",
      "QQQ\n",
      "CRWD\n",
      "TTD\n"
     ]
    }
   ],
   "source": [
    "# run this cell\n",
    "for stock in yahooStocks:\n",
    "    print(stock.upper())\n",
    "    driver.get(f'https://finance.yahoo.com/quote/{stock}/history')\n",
    "    wait.until(EC.visibility_of_element_located((By.XPATH,'//a[@download=\"'+stock.upper()+'.csv\"]')))\n",
    "    historical = driver.find_element(By.XPATH,'//a[@download=\"' + stock.upper() + '.csv\"]') \n",
    "    historical.click()\n",
    "    sleep(5)  \n",
    "    shutil.move('c:\\\\Users\\\\camar\\\\Downloads\\\\' + stock + \".csv\", stock + \".csv\")\n",
    "# shutil.move(\"BRK-B.csv\", \"BRK.B.csv\")                "
   ]
  },
  {
   "cell_type": "code",
   "execution_count": null,
   "id": "b5e68ced",
   "metadata": {
    "pycharm": {
     "name": "#%%\n"
    }
   },
   "outputs": [],
   "source": [
    "# optional\n",
    "for stock in stocks:\n",
    "    df = pd.read_csv(stock + '.csv')\n",
    "    last = df.iloc[-1:]\n",
    "    "
   ]
  },
  {
   "cell_type": "code",
   "execution_count": 26,
   "id": "5b4541ea-2c6b-45c5-ba3f-7c7d2d728e0a",
   "metadata": {
    "pycharm": {
     "name": "#%%\n"
    }
   },
   "outputs": [],
   "source": [
    "# run this cell\n",
    "from datetime import date, timedelta"
   ]
  },
  {
   "cell_type": "code",
   "execution_count": 27,
   "id": "d14fe4e0",
   "metadata": {
    "pycharm": {
     "name": "#%%\n"
    }
   },
   "outputs": [
    {
     "name": "stdout",
     "output_type": "stream",
     "text": [
      "Object `date.today()` not found.\n"
     ]
    }
   ],
   "source": [
    "# optional\n",
    "date.today()"
   ]
  },
  {
   "cell_type": "code",
   "execution_count": 37,
   "id": "ccdbf922",
   "metadata": {
    "pycharm": {
     "name": "#%%\n"
    }
   },
   "outputs": [
    {
     "name": "stdout",
     "output_type": "stream",
     "text": [
      "2023-03-09\n",
      "2023-03-09\n"
     ]
    }
   ],
   "source": [
    "# optional \n",
    "today = date.today().strftime(\"%Y-%m-%d\")\n",
    "stock == \"MSFT\"\n",
    "df = pd.read_csv(stock + \".csv\")\n",
    "row = df.iloc[-1]\n",
    "print(row.Date)\n",
    "print(today)\n",
    "if row.Date != today:\n",
    "    print(\"bummer\")"
   ]
  },
  {
   "cell_type": "code",
   "execution_count": 18,
   "id": "0e815285",
   "metadata": {
    "pycharm": {
     "name": "#%%\n"
    }
   },
   "outputs": [],
   "source": [
    "# run this cell\n",
    "def getYahooStock(stock):\n",
    "    if stock.upper()==\"BRK.B\":\n",
    "        stock = \"BRK-B\"\n",
    "    print(stock.upper())\n",
    "    driver.get(f'https://finance.yahoo.com/quote/{stock}/history')\n",
    "    wait.until(EC.visibility_of_element_located((By.XPATH,'//a[@download=\"'+stock.upper()+'.csv\"]')))\n",
    "    historical = driver.find_element(By.XPATH,'//a[@download=\"' + stock.upper() + '.csv\"]') \n",
    "    historical.click()\n",
    "    sleep(5)  \n",
    "    targetStock = stock\n",
    "    if stock.upper()==\"BRK-B\":\n",
    "        targetStock = \"BRK.B\"\n",
    "    shutil.move('c:\\\\Users\\\\camar\\\\Downloads\\\\' + stock + \".csv\", targetStock + \".csv\")    "
   ]
  },
  {
   "cell_type": "code",
   "execution_count": 28,
   "id": "59a76afa",
   "metadata": {
    "pycharm": {
     "name": "#%%\n"
    }
   },
   "outputs": [
    {
     "data": {
      "text/plain": [
       "datetime.date(2023, 11, 16)"
      ]
     },
     "execution_count": 28,
     "metadata": {},
     "output_type": "execute_result"
    }
   ],
   "source": [
    "# optional\n",
    "date.today() - timedelta(days = 0)"
   ]
  },
  {
   "cell_type": "code",
   "execution_count": 24,
   "id": "2f38c274",
   "metadata": {
    "pycharm": {
     "name": "#%%\n"
    },
    "tags": []
   },
   "outputs": [
    {
     "name": "stdout",
     "output_type": "stream",
     "text": [
      " Volume in drive C has no label.\n",
      " Volume Serial Number is 0446-5F4D\n",
      "\n",
      " Directory of C:\\Users\\camar\\Downloads\\CAP5768\\Data\\raw\\yahoo\n",
      "\n",
      "06/28/2023  02:27 PM    <DIR>          .\n",
      "06/28/2023  02:27 PM    <DIR>          ..\n",
      "04/20/2023  02:47 PM    <DIR>          .ipynb_checkpoints\n",
      "07/21/2023  10:19 AM            62,178 AAPL.csv\n",
      "08/17/2023  01:09 PM            18,701 ABBV.csv\n",
      "08/17/2023  01:05 PM            18,509 AMZN.csv\n",
      "08/17/2023  01:30 PM            18,686 AVGO.csv\n",
      "08/17/2023  01:29 PM            17,691 BAC.csv\n",
      "08/17/2023  01:06 PM            18,690 BRK-B.csv\n",
      "07/06/2023  09:41 PM            18,690 BRK.B.csv\n",
      "08/17/2023  01:31 PM            18,686 COST.csv\n",
      "08/17/2023  01:08 PM            18,733 CVX.csv\n",
      "08/04/2023  01:08 AM           256,537 geckodriver.log\n",
      "08/17/2023  01:06 PM            18,446 GOOG.csv\n",
      "08/17/2023  01:06 PM            18,418 GOOGL.csv\n",
      "08/17/2023  01:08 PM            18,694 HD.csv\n",
      "08/17/2023  01:07 PM            18,729 JNJ.csv\n",
      "08/17/2023  01:07 PM            18,818 JPM.csv\n",
      "08/17/2023  01:30 PM            17,620 KO.csv\n",
      "08/17/2023  01:08 PM            18,690 LLY.csv\n",
      "08/17/2023  01:08 PM            18,688 MA.csv\n",
      "08/17/2023  01:06 PM            18,901 META.csv\n",
      "08/17/2023  01:29 PM            18,436 MRK.csv\n",
      "08/17/2023  01:05 PM            18,865 MSFT.csv\n",
      "08/17/2023  01:05 PM            18,945 NVDA.csv\n",
      "08/17/2023  01:30 PM            17,779 ORCL.csv\n",
      "08/17/2023  01:30 PM            18,693 PEP.csv\n",
      "08/17/2023  01:30 PM            17,679 PFE.csv\n",
      "08/17/2023  01:08 PM            18,699 PG.csv\n",
      "08/17/2023  01:31 PM            18,942 QQQ.csv\n",
      "08/17/2023  01:31 PM            18,633 TMO.csv\n",
      "08/17/2023  01:05 PM            19,103 TSLA.csv\n",
      "08/17/2023  01:06 PM            18,692 UNH.csv\n",
      "08/17/2023  01:06 PM            18,710 V.csv\n",
      "08/17/2023  01:07 PM            18,704 WMT.csv\n",
      "08/17/2023  01:07 PM            18,730 XOM.csv\n",
      "              33 File(s)        894,715 bytes\n",
      "               3 Dir(s)  587,476,316,160 bytes free\n"
     ]
    }
   ],
   "source": [
    "# optional\n",
    "!dir"
   ]
  },
  {
   "cell_type": "code",
   "execution_count": 30,
   "id": "a21951b5",
   "metadata": {
    "pycharm": {
     "name": "#%%\n"
    }
   },
   "outputs": [
    {
     "name": "stdout",
     "output_type": "stream",
     "text": [
      "2023-11-16\n",
      "2023-11-15\n",
      "2023-11-16\n",
      "2023-11-15\n",
      "2023-11-16\n",
      "2023-11-15\n",
      "2023-11-16\n",
      "2023-11-15\n",
      "2023-11-16\n",
      "2023-11-15\n",
      "2023-11-16\n",
      "2023-11-15\n",
      "2023-11-16\n",
      "2023-11-15\n",
      "2023-11-16\n",
      "2023-11-15\n",
      "2023-11-16\n",
      "2023-11-15\n",
      "2023-11-16\n",
      "2023-11-15\n",
      "2023-11-16\n",
      "2023-11-15\n",
      "2023-11-16\n",
      "2023-11-15\n",
      "2023-11-16\n",
      "2023-11-15\n",
      "2023-11-16\n",
      "2023-11-15\n",
      "2023-11-16\n",
      "2023-11-15\n",
      "2023-11-16\n",
      "2023-11-15\n",
      "2023-11-16\n",
      "2023-11-15\n",
      "2023-11-16\n",
      "2023-11-15\n",
      "2023-11-16\n",
      "2023-11-15\n",
      "2023-11-16\n",
      "2023-11-15\n",
      "2023-11-16\n",
      "2023-11-15\n",
      "2023-11-16\n",
      "2023-11-16\n",
      "2023-11-16\n",
      "2023-11-15\n",
      "2023-11-16\n",
      "2023-11-15\n",
      "2023-11-16\n",
      "2023-11-15\n",
      "2023-11-16\n",
      "2023-11-15\n",
      "2023-11-16\n",
      "2023-11-15\n",
      "2023-11-16\n",
      "2023-11-15\n",
      "2023-11-16\n",
      "2023-11-15\n",
      "2023-11-16\n",
      "2023-11-15\n",
      "2023-11-16\n",
      "2023-11-15\n",
      "2023-11-16\n",
      "2023-11-15\n",
      "2023-11-16\n",
      "2023-11-15\n",
      "2023-11-16\n",
      "AAPL\n",
      "MSFT\n",
      "AMZN\n",
      "NVDA\n",
      "TSLA\n",
      "GOOG\n",
      "GOOGL\n",
      "BRK-B\n",
      "META\n",
      "UNH\n",
      "V\n",
      "XOM\n",
      "JPM\n",
      "JNJ\n",
      "WMT\n",
      "MA\n",
      "PG\n",
      "CVX\n",
      "HD\n",
      "LLY\n",
      "ABBV\n",
      "MRK\n",
      "AVGO\n",
      "KO\n",
      "ORCL\n",
      "PEP\n",
      "PFE\n",
      "TMO\n",
      "COST\n",
      "QQQ\n",
      "CRWD\n",
      "TTD\n",
      "2023-11-16\n",
      "2023-11-16\n",
      "2023-11-16\n",
      "2023-11-16\n",
      "2023-11-16\n",
      "2023-11-16\n",
      "2023-11-16\n",
      "2023-11-16\n",
      "2023-11-16\n",
      "2023-11-16\n",
      "2023-11-16\n",
      "2023-11-16\n",
      "2023-11-16\n",
      "2023-11-16\n",
      "2023-11-16\n",
      "2023-11-16\n",
      "2023-11-16\n",
      "2023-11-16\n",
      "2023-11-16\n",
      "2023-11-16\n",
      "2023-11-16\n",
      "2023-11-16\n",
      "2023-11-16\n",
      "2023-11-16\n",
      "2023-11-16\n",
      "2023-11-16\n",
      "2023-11-16\n",
      "2023-11-16\n",
      "2023-11-16\n",
      "2023-11-16\n",
      "2023-11-16\n",
      "2023-11-16\n",
      "2023-11-16\n",
      "2023-11-16\n",
      "2023-11-16\n",
      "2023-11-16\n",
      "2023-11-16\n",
      "2023-11-16\n",
      "2023-11-16\n",
      "2023-11-16\n",
      "2023-11-16\n",
      "2023-11-16\n",
      "2023-11-16\n",
      "2023-11-16\n",
      "2023-11-16\n",
      "2023-11-16\n",
      "2023-11-16\n",
      "2023-11-16\n",
      "2023-11-16\n",
      "2023-11-16\n",
      "2023-11-16\n",
      "2023-11-16\n",
      "2023-11-16\n",
      "2023-11-16\n",
      "2023-11-16\n",
      "2023-11-16\n",
      "2023-11-16\n",
      "2023-11-16\n",
      "2023-11-16\n",
      "2023-11-16\n",
      "2023-11-16\n",
      "2023-11-16\n",
      "2023-11-16\n",
      "2023-11-16\n",
      "2023-11-16\n",
      "2023-11-16\n"
     ]
    }
   ],
   "source": [
    "# run this cell; line 8 may need to be changed depending on whether Yahoo is ordered first to last or last to first\n",
    "today = (date.today()- timedelta(days = 0)).strftime(\"%Y-%m-%d\")\n",
    "print(today)\n",
    "while True:\n",
    "    strl = []\n",
    "    for stock in stocks:\n",
    "        df = pd.read_csv(stock + \".csv\")\n",
    "        row = df.iloc[-1]\n",
    "        print(row.Date)\n",
    "        print(today)\n",
    "        if row.Date != today:\n",
    "            strl.append(stock)\n",
    "    if len(strl) == 0:\n",
    "        break\n",
    "    for stock in strl:\n",
    "        getYahooStock(stock)\n",
    "   \n",
    "        \n",
    "        "
   ]
  },
  {
   "cell_type": "code",
   "execution_count": 34,
   "id": "fce2385b",
   "metadata": {
    "pycharm": {
     "name": "#%%\n"
    },
    "scrolled": true
   },
   "outputs": [],
   "source": [
    "# If all downloads are surely done, run this cell\n",
    "driver.close()"
   ]
  },
  {
   "cell_type": "code",
   "execution_count": 31,
   "id": "b810d930",
   "metadata": {
    "pycharm": {
     "name": "#%%\n"
    },
    "scrolled": true
   },
   "outputs": [
    {
     "name": "stdout",
     "output_type": "stream",
     "text": [
      " Volume in drive C has no label.\n",
      " Volume Serial Number is 0446-5F4D\n",
      "\n",
      " Directory of C:\\Users\\camar\\Downloads\\CAP5768\\Data\\raw\\yahoo\n",
      "\n",
      "11/16/2023  01:33 PM    <DIR>          .\n",
      "11/16/2023  01:33 PM    <DIR>          ..\n",
      "04/20/2023  01:47 PM    <DIR>          .ipynb_checkpoints\n",
      "11/16/2023  07:14 PM            18,952 AAPL.csv\n",
      "11/16/2023  07:18 PM            18,700 ABBV.csv\n",
      "11/16/2023  07:14 PM            18,551 AMZN.csv\n",
      "11/16/2023  07:18 PM            18,688 AVGO.csv\n",
      "11/16/2023  01:31 PM            17,691 BAC.csv\n",
      "11/16/2023  01:28 PM            18,617 BRK-B.csv\n",
      "11/16/2023  07:16 PM            18,691 BRK.B.csv\n",
      "11/16/2023  07:20 PM            18,686 COST.csv\n",
      "11/16/2023  07:20 PM            18,650 CRWD.csv\n",
      "11/16/2023  07:18 PM            18,743 CVX.csv\n",
      "08/04/2023  12:08 AM           256,537 geckodriver.log\n",
      "11/16/2023  07:15 PM            18,582 GOOG.csv\n",
      "11/16/2023  07:15 PM            18,572 GOOGL.csv\n",
      "11/16/2023  07:18 PM            18,694 HD.csv\n",
      "11/16/2023  07:17 PM            18,740 JNJ.csv\n",
      "11/16/2023  07:16 PM            18,786 JPM.csv\n",
      "11/16/2023  07:19 PM            17,555 KO.csv\n",
      "11/16/2023  07:18 PM            18,691 LLY.csv\n",
      "11/16/2023  07:17 PM            18,689 MA.csv\n",
      "11/16/2023  07:16 PM            18,941 META.csv\n",
      "11/16/2023  07:18 PM            18,713 MRK.csv\n",
      "11/16/2023  07:14 PM            18,940 MSFT.csv\n",
      "11/16/2023  07:15 PM            18,945 NVDA.csv\n",
      "11/16/2023  07:19 PM            18,102 ORCL.csv\n",
      "11/16/2023  07:19 PM            18,696 PEP.csv\n",
      "11/16/2023  07:19 PM            17,679 PFE.csv\n",
      "11/16/2023  07:17 PM            18,700 PG.csv\n",
      "11/16/2023  07:20 PM            18,941 QQQ.csv\n",
      "11/16/2023  07:20 PM            18,644 TMO.csv\n",
      "11/16/2023  07:15 PM            19,157 TSLA.csv\n",
      "11/16/2023  07:20 PM            17,438 TTD.csv\n",
      "11/16/2023  07:16 PM            18,692 UNH.csv\n",
      "11/16/2023  07:16 PM            18,711 V.csv\n",
      "11/16/2023  07:17 PM            18,704 WMT.csv\n",
      "11/16/2023  07:16 PM            18,849 XOM.csv\n",
      "              35 File(s)        888,667 bytes\n",
      "               3 Dir(s)  580,909,101,056 bytes free\n"
     ]
    }
   ],
   "source": [
    "# optional\n",
    "!dir"
   ]
  },
  {
   "cell_type": "code",
   "execution_count": 22,
   "id": "5075e61e",
   "metadata": {
    "pycharm": {
     "name": "#%%\n"
    }
   },
   "outputs": [],
   "source": [
    "# only run this cell if the current directory isn't yahoo\n",
    "os.chdir('./yahoo')"
   ]
  },
  {
   "cell_type": "code",
   "execution_count": 20,
   "id": "62faa62f",
   "metadata": {
    "pycharm": {
     "name": "#%%\n"
    }
   },
   "outputs": [
    {
     "name": "stdout",
     "output_type": "stream",
     "text": [
      "['AAPL', 'MSFT', 'AMZN', 'TSLA', 'GOOGL', 'GOOG', 'NVDA', 'BRK.B', 'META', 'UNH']\n"
     ]
    }
   ],
   "source": [
    "# optional\n",
    "print(stocks)\n",
    "# stocks = stocks[:-3]\n",
    "# print(stocks)\n",
    "# stocks = ['MSFT', 'UNH']"
   ]
  },
  {
   "cell_type": "code",
   "execution_count": 43,
   "id": "9f381abb",
   "metadata": {
    "pycharm": {
     "name": "#%%\n"
    }
   },
   "outputs": [
    {
     "name": "stdout",
     "output_type": "stream",
     "text": [
      " Volume in drive C has no label.\n",
      " Volume Serial Number is 0446-5F4D\n",
      "\n",
      " Directory of C:\\Users\\camar\\Downloads\\CAP5768\\Data\\raw\\yahoo\n",
      "\n",
      "03/23/2023  09:16 PM    <DIR>          .\n",
      "03/23/2023  09:16 PM    <DIR>          ..\n",
      "03/23/2023  09:08 PM            18,983 AAPL.csv\n",
      "03/23/2023  09:14 PM            18,628 ABBV.csv\n",
      "03/23/2023  09:08 PM            18,550 AMZN.csv\n",
      "03/23/2023  09:14 PM            18,613 AVGO.csv\n",
      "03/23/2023  09:14 PM            17,619 BAC.csv\n",
      "03/23/2023  09:09 PM            18,691 BRK.B.csv\n",
      "03/23/2023  09:16 PM            18,614 COST.csv\n",
      "03/23/2023  09:12 PM            18,760 CVX.csv\n",
      "03/16/2023  11:59 PM        71,571,249 geckodriver.log\n",
      "03/23/2023  09:09 PM            18,446 GOOG.csv\n",
      "03/23/2023  09:09 PM            18,345 GOOGL.csv\n",
      "03/23/2023  09:12 PM            18,622 HD.csv\n",
      "03/23/2023  09:11 PM            18,718 JNJ.csv\n",
      "03/23/2023  09:11 PM            18,784 JPM.csv\n",
      "03/23/2023  09:15 PM            17,647 KO.csv\n",
      "03/23/2023  09:12 PM            18,689 LLY.csv\n",
      "03/23/2023  09:12 PM            18,614 MA.csv\n",
      "03/23/2023  09:10 PM            18,904 META.csv\n",
      "03/23/2023  09:14 PM            17,910 MRK.csv\n",
      "03/23/2023  09:08 PM            18,865 MSFT.csv\n",
      "03/23/2023  09:08 PM            18,943 NVDA.csv\n",
      "03/23/2023  09:15 PM            17,395 ORCL.csv\n",
      "03/23/2023  09:15 PM            18,618 PEP.csv\n",
      "03/23/2023  09:15 PM            17,609 PFE.csv\n",
      "03/23/2023  09:12 PM            18,631 PG.csv\n",
      "03/23/2023  09:16 PM            18,559 TMO.csv\n",
      "03/23/2023  09:09 PM            19,042 TSLA.csv\n",
      "03/23/2023  09:10 PM            18,617 UNH.csv\n",
      "03/23/2023  09:10 PM            18,639 V.csv\n",
      "03/23/2023  09:11 PM            18,646 WMT.csv\n",
      "03/23/2023  09:10 PM            18,176 XOM.csv\n",
      "              31 File(s)     72,126,126 bytes\n",
      "               2 Dir(s)  655,115,898,880 bytes free\n"
     ]
    }
   ],
   "source": [
    "# optional\n",
    "!dir"
   ]
  },
  {
   "cell_type": "code",
   "execution_count": 6,
   "id": "251db31c",
   "metadata": {
    "pycharm": {
     "name": "#%%\n"
    }
   },
   "outputs": [],
   "source": [
    "# optional\n",
    "stocks = [\"AAPL\", \"MSFT\", \"AVGO\", \"AMZN\", \"NVDA\", \"TSLA\", \"GOOG\", \"GOOGL\",  \"BRK.B\",\"META\",\\\n",
    "          \"UNH\", \"V\", \"XOM\", \"JPM\", \"JNJ\", \"WMT\", \"MA\", \"PG\", \"CVX\", \"HD\", \"LLY\", \"ABBV\", \\\n",
    "         \"BAC\", \"MRK\", \"KO\", \"ORCL\", \"PEP\", \"PFE\", \"TMO\", \"COST\", \"QQQ\"]\n",
    "# stocks = [\"AAPL\", \"MSFT\", \"AVGO\"]"
   ]
  },
  {
   "cell_type": "code",
   "execution_count": 32,
   "id": "9a262cfb-4625-439c-9fc0-67161a72ecd2",
   "metadata": {
    "pycharm": {
     "name": "#%%\n"
    }
   },
   "outputs": [
    {
     "data": {
      "text/plain": [
       "['AAPL',\n",
       " 'MSFT',\n",
       " 'AMZN',\n",
       " 'NVDA',\n",
       " 'TSLA',\n",
       " 'GOOG',\n",
       " 'GOOGL',\n",
       " 'BRK.B',\n",
       " 'META',\n",
       " 'UNH',\n",
       " 'V',\n",
       " 'XOM',\n",
       " 'JPM',\n",
       " 'JNJ',\n",
       " 'WMT',\n",
       " 'MA',\n",
       " 'PG',\n",
       " 'CVX',\n",
       " 'HD',\n",
       " 'LLY',\n",
       " 'ABBV',\n",
       " 'BAC',\n",
       " 'MRK',\n",
       " 'AVGO',\n",
       " 'KO',\n",
       " 'ORCL',\n",
       " 'PEP',\n",
       " 'PFE',\n",
       " 'TMO',\n",
       " 'COST',\n",
       " 'QQQ',\n",
       " 'CRWD',\n",
       " 'TTD']"
      ]
     },
     "execution_count": 32,
     "metadata": {},
     "output_type": "execute_result"
    }
   ],
   "source": [
    "stocks"
   ]
  },
  {
   "cell_type": "code",
   "execution_count": 65,
   "id": "30df6f81-3f23-4cb8-a312-c48d95776dff",
   "metadata": {
    "pycharm": {
     "name": "#%%\n"
    }
   },
   "outputs": [
    {
     "name": "stdout",
     "output_type": "stream",
     "text": [
      " Volume in drive C has no label.\n",
      " Volume Serial Number is 0446-5F4D\n",
      "\n",
      " Directory of C:\\Users\\camar\\Downloads\\CAP5768\\Data\\raw\\yahoo\n",
      "\n",
      "06/22/2023  03:21 PM    <DIR>          .\n",
      "06/22/2023  03:21 PM    <DIR>          ..\n",
      "04/20/2023  02:47 PM    <DIR>          .ipynb_checkpoints\n",
      "06/22/2023  02:48 PM            18,964 AAPL.csv\n",
      "06/22/2023  03:32 PM            18,701 ABBV.csv\n",
      "06/22/2023  02:49 PM            18,508 AMZN.csv\n",
      "06/22/2023  02:49 PM            18,688 AVGO.csv\n",
      "06/22/2023  03:32 PM            17,691 BAC.csv\n",
      "06/15/2023  02:34 PM            18,691 BRK-B.csv\n",
      "06/22/2023  02:59 PM            18,690 BRK.B.csv\n",
      "06/22/2023  03:34 PM            18,687 COST.csv\n",
      "06/22/2023  03:31 PM            18,738 CVX.csv\n",
      "06/22/2023  03:11 PM             3,870 geckodriver.log\n",
      "06/22/2023  02:49 PM            18,446 GOOG.csv\n",
      "06/22/2023  02:50 PM            18,418 GOOGL.csv\n",
      "06/22/2023  03:32 PM            18,696 HD.csv\n",
      "06/22/2023  03:31 PM            18,714 JNJ.csv\n",
      "06/22/2023  03:30 PM            18,834 JPM.csv\n",
      "06/22/2023  03:33 PM            17,627 KO.csv\n",
      "06/22/2023  03:32 PM            18,690 LLY.csv\n",
      "06/22/2023  03:31 PM            18,689 MA.csv\n",
      "06/22/2023  03:30 PM            18,903 META.csv\n",
      "06/22/2023  03:33 PM            18,249 MRK.csv\n",
      "06/22/2023  02:49 PM            18,940 MSFT.csv\n",
      "06/22/2023  02:49 PM            18,945 NVDA.csv\n",
      "06/22/2023  03:33 PM            17,579 ORCL.csv\n",
      "06/22/2023  03:33 PM            18,692 PEP.csv\n",
      "06/22/2023  03:33 PM            17,679 PFE.csv\n",
      "06/22/2023  03:31 PM            18,701 PG.csv\n",
      "06/22/2023  03:34 PM            18,628 TMO.csv\n",
      "06/22/2023  02:49 PM            19,083 TSLA.csv\n",
      "06/22/2023  03:30 PM            18,692 UNH.csv\n",
      "06/22/2023  03:30 PM            18,711 V.csv\n",
      "06/22/2023  03:31 PM            18,712 WMT.csv\n",
      "06/22/2023  03:30 PM            18,538 XOM.csv\n",
      "              32 File(s)        579,394 bytes\n",
      "               3 Dir(s)  634,492,108,800 bytes free\n"
     ]
    }
   ],
   "source": [
    "# optional\n",
    "dir"
   ]
  },
  {
   "cell_type": "code",
   "execution_count": 33,
   "id": "4c47e7f9",
   "metadata": {
    "pycharm": {
     "name": "#%%\n"
    },
    "scrolled": true
   },
   "outputs": [],
   "source": [
    "# run this cell, all other cells after this cell are optional \n",
    "for stock in stocks:\n",
    "    df = pd.read_csv(stock + '.csv')\n",
    "    df = df[['Date', 'Close', 'Volume', 'Open', 'High', 'Low']]\n",
    "    df = df.rename(columns={'Close': 'Close/Last'})\n",
    "    df['Close/Last'] = df['Close/Last'].map(lambda x: f'${x}')\n",
    "    df['Open'] = df['Open'].map(lambda x: f'${x}')\n",
    "    df['High'] = df['High'].map(lambda x: f'${x}')\n",
    "    df['Low'] = df['Low'].map(lambda x: f'${x}')\n",
    "    last = df.iloc[-((date.today() - date(2023,11,14)).days-2):]\n",
    "#     last = df.iloc[-1:]\n",
    "#    print(last)\n",
    "#    break\n",
    "    df = pd.read_csv(\"../\" + stock + '.csv')\n",
    "    df = pd.concat([last, df])\n",
    "    df.to_csv(\"../\" + stock + \".csv\", index=False, mode=\"w\")\n",
    "        \n",
    "        \n",
    "    \n",
    "    \n",
    "    "
   ]
  },
  {
   "cell_type": "code",
   "execution_count": 27,
   "id": "903db2dd",
   "metadata": {
    "pycharm": {
     "name": "#%%\n"
    }
   },
   "outputs": [],
   "source": [
    "os.chdir(\"..\")"
   ]
  },
  {
   "cell_type": "code",
   "execution_count": 28,
   "id": "8c4f02a7",
   "metadata": {
    "pycharm": {
     "name": "#%%\n"
    }
   },
   "outputs": [
    {
     "name": "stdout",
     "output_type": "stream",
     "text": [
      " Volume in drive C has no label.\n",
      " Volume Serial Number is 0446-5F4D\n",
      "\n",
      " Directory of C:\\Users\\camar\\Downloads\\CAP5768\\Data\\raw\n",
      "\n",
      "08/11/2023  03:12 AM    <DIR>          .\n",
      "08/11/2023  03:12 AM    <DIR>          ..\n",
      "04/20/2023  02:56 PM    <DIR>          .ipynb_checkpoints\n",
      "08/17/2023  01:36 PM            85,285 AAPL.csv\n",
      "08/17/2023  01:36 PM            80,628 ABBV.csv\n",
      "08/17/2023  01:36 PM            86,311 AMZN.csv\n",
      "08/17/2023  01:36 PM            82,294 AVGO.csv\n",
      "08/17/2023  01:36 PM            76,751 BAC.csv\n",
      "08/17/2023  01:36 PM            82,509 BRK.B.csv\n",
      "08/17/2023  01:36 PM            82,549 COST.csv\n",
      "08/17/2023  01:36 PM            82,045 CVX.csv\n",
      "07/06/2023  09:41 PM         5,278,338 geckodriver.log\n",
      "08/17/2023  01:36 PM            85,729 GOOG.csv\n",
      "08/17/2023  01:36 PM            85,633 GOOGL.csv\n",
      "08/17/2023  01:36 PM            82,681 HD.csv\n",
      "08/17/2023  01:36 PM            82,739 JNJ.csv\n",
      "08/17/2023  01:36 PM            83,156 JPM.csv\n",
      "08/17/2023  01:36 PM            77,095 KO.csv\n",
      "08/17/2023  01:36 PM            82,302 LLY.csv\n",
      "08/17/2023  01:36 PM            82,517 MA.csv\n",
      "08/17/2023  01:36 PM            84,218 META.csv\n",
      "08/17/2023  01:36 PM            83,465 MRK.csv\n",
      "08/17/2023  01:36 PM            84,180 MSFT.csv\n",
      "08/17/2023  01:36 PM            85,589 NVDA.csv\n",
      "08/17/2023  01:36 PM            77,501 ORCL.csv\n",
      "08/17/2023  01:36 PM            82,709 PEP.csv\n",
      "08/17/2023  01:36 PM            81,382 PFE.csv\n",
      "08/17/2023  01:36 PM            82,267 PG.csv\n",
      "08/17/2023  01:36 PM            78,760 qqq.csv\n",
      "08/17/2023  01:36 PM            82,088 TMO.csv\n",
      "08/17/2023  01:36 PM            88,514 TSLA.csv\n",
      "08/17/2023  01:36 PM            82,317 UNH.csv\n",
      "08/17/2023  01:36 PM            82,781 V.csv\n",
      "08/17/2023  01:36 PM            82,290 WMT.csv\n",
      "08/17/2023  01:36 PM            79,532 XOM.csv\n",
      "06/28/2023  02:27 PM    <DIR>          yahoo\n",
      "              32 File(s)      7,836,155 bytes\n",
      "               4 Dir(s)  587,472,187,392 bytes free\n"
     ]
    }
   ],
   "source": [
    "!dir"
   ]
  },
  {
   "cell_type": "code",
   "execution_count": 89,
   "id": "be966d88",
   "metadata": {
    "pycharm": {
     "name": "#%%\n"
    }
   },
   "outputs": [],
   "source": [
    "for stock in stocks:\n",
    "    df = pd.read_csv(stock + '.csv')\n",
    "    df = df.iloc[0:1258]\n",
    "    df.to_csv(stock + '.csv', index=False, mode=\"w\")"
   ]
  },
  {
   "cell_type": "code",
   "execution_count": 83,
   "id": "82faf907",
   "metadata": {
    "pycharm": {
     "name": "#%%\n"
    }
   },
   "outputs": [],
   "source": [
    "for stock in stocks:\n",
    "    df = pd.read_csv(stock + '.csv')\n",
    "    df.to_csv(stock + '.csv', index=False, mode=\"w\")"
   ]
  },
  {
   "cell_type": "code",
   "execution_count": 72,
   "id": "6f3f22c3",
   "metadata": {
    "pycharm": {
     "name": "#%%\n"
    }
   },
   "outputs": [
    {
     "ename": "IndentationError",
     "evalue": "expected an indented block (3867873855.py, line 1)",
     "output_type": "error",
     "traceback": [
      "\u001b[1;36m  Cell \u001b[1;32mIn [72], line 1\u001b[1;36m\u001b[0m\n\u001b[1;33m    with open(\"stocks.csv\", \"wt\") as outFile:\u001b[0m\n\u001b[1;37m                                             ^\u001b[0m\n\u001b[1;31mIndentationError\u001b[0m\u001b[1;31m:\u001b[0m expected an indented block\n"
     ]
    }
   ],
   "source": [
    "with open(\"stocks.csv\", \"wt\") as outFile:"
   ]
  },
  {
   "cell_type": "code",
   "execution_count": null,
   "id": "5070c9b2",
   "metadata": {
    "pycharm": {
     "name": "#%%\n"
    }
   },
   "outputs": [],
   "source": [
    "list_of_files = glob.glob('c:\\\\Users\\\\camar\\\\Downloads\\\\CAP5768\\\\data\\\\raw\\\\*.csv')"
   ]
  },
  {
   "cell_type": "code",
   "execution_count": null,
   "id": "b9300366",
   "metadata": {
    "pycharm": {
     "name": "#%%\n"
    }
   },
   "outputs": [],
   "source": [
    "with open(\"stocks.csv\", \"wt\") as outFile:\n",
    "    for csv in list_of_files:\n",
    "        with open(csv,\"rt\") as inFile:\n",
    "            data = inFile.read()\n",
    "            matches = re.findall(r\"(\\d{2}/\\d{2}/\\d{4})\\,\\$(\\d+\\.?\\d?\\d?)\", data)\n",
    "            name = os.path.basename(csv)[0:-4]\n",
    "            outFile.write(name + \"\\n\")\n",
    "            for match in matches:\n",
    "                outFile.write(f\"{match[0]}, {match[1]}\") \n",
    "                outFile.write(\"\\n\")"
   ]
  },
  {
   "cell_type": "code",
   "execution_count": 66,
   "id": "9f42f633",
   "metadata": {
    "pycharm": {
     "name": "#%%\n"
    }
   },
   "outputs": [],
   "source": [
    "os.chdir(\"..\")"
   ]
  },
  {
   "cell_type": "code",
   "execution_count": 67,
   "id": "9ba7c3cc",
   "metadata": {
    "pycharm": {
     "name": "#%%\n"
    }
   },
   "outputs": [
    {
     "name": "stdout",
     "output_type": "stream",
     "text": [
      " Volume in drive C has no label.\n",
      " Volume Serial Number is 0446-5F4D\n",
      "\n",
      " Directory of C:\\Users\\camar\\Downloads\\CAP5768\\Data\\raw\n",
      "\n",
      "03/24/2023  02:10 AM    <DIR>          .\n",
      "03/24/2023  02:10 AM    <DIR>          ..\n",
      "03/24/2023  02:16 AM            68,393 AAPL.csv\n",
      "03/24/2023  01:42 AM            63,548 ABBV.csv\n",
      "03/24/2023  02:48 AM            70,517 AMZN.csv\n",
      "03/24/2023  02:16 AM            66,054 AVGO.csv\n",
      "03/24/2023  01:42 AM            62,212 BAC.csv\n",
      "03/24/2023  01:42 AM            68,441 BRK.B.csv\n",
      "03/24/2023  01:42 AM            66,155 COST.csv\n",
      "03/24/2023  01:42 AM            65,153 CVX.csv\n",
      "03/24/2023  02:48 AM            69,825 GOOG.csv\n",
      "03/24/2023  02:48 AM            69,839 GOOGL.csv\n",
      "03/24/2023  01:42 AM            66,091 HD.csv\n",
      "03/24/2023  01:42 AM            65,999 JNJ.csv\n",
      "03/24/2023  01:42 AM            66,364 JPM.csv\n",
      "03/24/2023  01:42 AM            62,016 KO.csv\n",
      "03/24/2023  01:42 AM            65,511 LLY.csv\n",
      "03/24/2023  01:42 AM            65,953 MA.csv\n",
      "03/24/2023  01:42 AM            67,248 META.csv\n",
      "03/24/2023  01:42 AM            67,667 MRK.csv\n",
      "03/24/2023  02:16 AM            67,067 MSFT.csv\n",
      "03/24/2023  02:48 AM            69,134 NVDA.csv\n",
      "03/24/2023  01:42 AM            61,602 ORCL.csv\n",
      "03/24/2023  01:42 AM            65,875 PEP.csv\n",
      "03/24/2023  01:42 AM            67,032 PFE.csv\n",
      "03/24/2023  01:42 AM            65,064 PG.csv\n",
      "03/24/2023  01:42 AM            65,630 TMO.csv\n",
      "03/24/2023  02:48 AM            72,176 TSLA.csv\n",
      "03/24/2023  01:42 AM            65,947 UNH.csv\n",
      "03/24/2023  01:42 AM            66,172 V.csv\n",
      "03/24/2023  01:42 AM            65,143 WMT.csv\n",
      "03/24/2023  01:42 AM            62,493 XOM.csv\n",
      "03/24/2023  02:49 AM    <DIR>          yahoo\n",
      "              30 File(s)      1,990,321 bytes\n",
      "               3 Dir(s)  655,001,714,688 bytes free\n"
     ]
    }
   ],
   "source": [
    "!dir"
   ]
  },
  {
   "cell_type": "code",
   "execution_count": 39,
   "id": "0f16bfe8",
   "metadata": {
    "pycharm": {
     "name": "#%%\n"
    }
   },
   "outputs": [],
   "source": [
    "for stock in stocks:\n",
    "    df = pd.read_csv(stock + \".csv\")\n",
    "    df = df[(df.Date.str[0:4] != \"2023\")]\n",
    "    df.to_csv(\"../test/\" + stock + \".csv\", index=False, mode=\"w\")\n",
    "        "
   ]
  },
  {
   "cell_type": "code",
   "execution_count": null,
   "id": "f62e91cd",
   "metadata": {
    "pycharm": {
     "name": "#%%\n"
    }
   },
   "outputs": [],
   "source": []
  }
 ],
 "metadata": {
  "kernelspec": {
   "display_name": "Python 3 (ipykernel)",
   "language": "python",
   "name": "python3"
  },
  "language_info": {
   "codemirror_mode": {
    "name": "ipython",
    "version": 3
   },
   "file_extension": ".py",
   "mimetype": "text/x-python",
   "name": "python",
   "nbconvert_exporter": "python",
   "pygments_lexer": "ipython3",
   "version": "3.10.13"
  }
 },
 "nbformat": 4,
 "nbformat_minor": 5
}
